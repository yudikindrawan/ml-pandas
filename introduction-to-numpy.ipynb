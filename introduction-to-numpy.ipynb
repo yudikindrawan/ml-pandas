{
 "cells": [
  {
   "cell_type": "code",
   "execution_count": 1,
   "id": "16712c4a-d9f9-4496-8ee5-c7f3e27331b8",
   "metadata": {},
   "outputs": [],
   "source": [
    "import numpy as np"
   ]
  },
  {
   "cell_type": "markdown",
   "id": "0f88891d-f350-4ba2-89c9-e56a7ff62504",
   "metadata": {},
   "source": [
    "## DataTypes & Attrubutes"
   ]
  },
  {
   "cell_type": "code",
   "execution_count": 2,
   "id": "bcbcbabd-c136-4e11-83da-5040ca6f5dbe",
   "metadata": {},
   "outputs": [
    {
     "data": {
      "text/plain": [
       "array([1, 2, 3])"
      ]
     },
     "execution_count": 2,
     "metadata": {},
     "output_type": "execute_result"
    }
   ],
   "source": [
    "a1 = np.array([1, 2, 3])\n",
    "a1"
   ]
  },
  {
   "cell_type": "code",
   "execution_count": 3,
   "id": "0085f2a3-4231-47c3-909c-3b07ee30617f",
   "metadata": {},
   "outputs": [
    {
     "data": {
      "text/plain": [
       "numpy.ndarray"
      ]
     },
     "execution_count": 3,
     "metadata": {},
     "output_type": "execute_result"
    }
   ],
   "source": [
    "type(a1)"
   ]
  },
  {
   "cell_type": "code",
   "execution_count": 4,
   "id": "96de6da3-22b5-4e41-9095-ba855a5f32df",
   "metadata": {},
   "outputs": [],
   "source": [
    "a2 = np.array([[1, 2.0, 3.3],\n",
    "               [4, 5, 6.5]])\n",
    "\n",
    "a3 = np.array([[[1, 2, 3,], \n",
    "                [4, 5, 6], \n",
    "                [7, 8, 9]],\n",
    "               [[10, 11, 12],\n",
    "                [13, 14, 15],\n",
    "                [16, 17, 18]]])"
   ]
  },
  {
   "cell_type": "code",
   "execution_count": 5,
   "id": "b4180e59-a925-4776-aa6a-1d444e1853ee",
   "metadata": {},
   "outputs": [
    {
     "data": {
      "text/plain": [
       "array([[1. , 2. , 3.3],\n",
       "       [4. , 5. , 6.5]])"
      ]
     },
     "execution_count": 5,
     "metadata": {},
     "output_type": "execute_result"
    }
   ],
   "source": [
    "a2"
   ]
  },
  {
   "cell_type": "code",
   "execution_count": 6,
   "id": "975fb124-d092-4b86-a451-d67bd09ce667",
   "metadata": {},
   "outputs": [
    {
     "data": {
      "text/plain": [
       "numpy.ndarray"
      ]
     },
     "execution_count": 6,
     "metadata": {},
     "output_type": "execute_result"
    }
   ],
   "source": [
    "type(a2)"
   ]
  },
  {
   "cell_type": "code",
   "execution_count": 7,
   "id": "6a580c89-29b3-44b8-8add-572052fd7a2b",
   "metadata": {},
   "outputs": [
    {
     "data": {
      "text/plain": [
       "array([[[ 1,  2,  3],\n",
       "        [ 4,  5,  6],\n",
       "        [ 7,  8,  9]],\n",
       "\n",
       "       [[10, 11, 12],\n",
       "        [13, 14, 15],\n",
       "        [16, 17, 18]]])"
      ]
     },
     "execution_count": 7,
     "metadata": {},
     "output_type": "execute_result"
    }
   ],
   "source": [
    "a3"
   ]
  },
  {
   "cell_type": "code",
   "execution_count": 8,
   "id": "0e6ff8ec-ffbc-412e-b2da-01adda91cd2c",
   "metadata": {},
   "outputs": [
    {
     "data": {
      "text/plain": [
       "(3,)"
      ]
     },
     "execution_count": 8,
     "metadata": {},
     "output_type": "execute_result"
    }
   ],
   "source": [
    "a1.shape"
   ]
  },
  {
   "cell_type": "code",
   "execution_count": 9,
   "id": "ae7c5be8-1d70-4112-81c4-3757bde36870",
   "metadata": {},
   "outputs": [
    {
     "data": {
      "text/plain": [
       "(2, 3)"
      ]
     },
     "execution_count": 9,
     "metadata": {},
     "output_type": "execute_result"
    }
   ],
   "source": [
    "a2.shape"
   ]
  },
  {
   "cell_type": "code",
   "execution_count": 10,
   "id": "5ad7dcde-83d5-42c9-8df7-a7a7a40d17ee",
   "metadata": {},
   "outputs": [
    {
     "data": {
      "text/plain": [
       "(2, 3, 3)"
      ]
     },
     "execution_count": 10,
     "metadata": {},
     "output_type": "execute_result"
    }
   ],
   "source": [
    "a3.shape"
   ]
  },
  {
   "cell_type": "code",
   "execution_count": 11,
   "id": "7ba78d8b-bdec-4d49-a293-84770d75ef2f",
   "metadata": {},
   "outputs": [
    {
     "data": {
      "text/plain": [
       "(1, 2, 3)"
      ]
     },
     "execution_count": 11,
     "metadata": {},
     "output_type": "execute_result"
    }
   ],
   "source": [
    "a1.ndim, a2.ndim, a3.ndim"
   ]
  },
  {
   "cell_type": "code",
   "execution_count": 12,
   "id": "fd46c9d1-e5d6-4a08-8106-b14c25d9f0cb",
   "metadata": {},
   "outputs": [
    {
     "data": {
      "text/plain": [
       "(dtype('int64'), dtype('float64'), dtype('int64'))"
      ]
     },
     "execution_count": 12,
     "metadata": {},
     "output_type": "execute_result"
    }
   ],
   "source": [
    "a1.dtype, a2.dtype, a3.dtype"
   ]
  },
  {
   "cell_type": "code",
   "execution_count": 13,
   "id": "b4996d91-661b-4c78-99b1-b98c94dc2831",
   "metadata": {},
   "outputs": [
    {
     "data": {
      "text/plain": [
       "(3, 6, 18)"
      ]
     },
     "execution_count": 13,
     "metadata": {},
     "output_type": "execute_result"
    }
   ],
   "source": [
    "a1.size, a2.size, a3.size"
   ]
  },
  {
   "cell_type": "code",
   "execution_count": 14,
   "id": "32147929-ac22-470f-9b09-bcd9cad1e41f",
   "metadata": {},
   "outputs": [
    {
     "data": {
      "text/html": [
       "<div>\n",
       "<style scoped>\n",
       "    .dataframe tbody tr th:only-of-type {\n",
       "        vertical-align: middle;\n",
       "    }\n",
       "\n",
       "    .dataframe tbody tr th {\n",
       "        vertical-align: top;\n",
       "    }\n",
       "\n",
       "    .dataframe thead th {\n",
       "        text-align: right;\n",
       "    }\n",
       "</style>\n",
       "<table border=\"1\" class=\"dataframe\">\n",
       "  <thead>\n",
       "    <tr style=\"text-align: right;\">\n",
       "      <th></th>\n",
       "      <th>0</th>\n",
       "      <th>1</th>\n",
       "      <th>2</th>\n",
       "    </tr>\n",
       "  </thead>\n",
       "  <tbody>\n",
       "    <tr>\n",
       "      <th>0</th>\n",
       "      <td>1.0</td>\n",
       "      <td>2.0</td>\n",
       "      <td>3.3</td>\n",
       "    </tr>\n",
       "    <tr>\n",
       "      <th>1</th>\n",
       "      <td>4.0</td>\n",
       "      <td>5.0</td>\n",
       "      <td>6.5</td>\n",
       "    </tr>\n",
       "  </tbody>\n",
       "</table>\n",
       "</div>"
      ],
      "text/plain": [
       "     0    1    2\n",
       "0  1.0  2.0  3.3\n",
       "1  4.0  5.0  6.5"
      ]
     },
     "execution_count": 14,
     "metadata": {},
     "output_type": "execute_result"
    }
   ],
   "source": [
    "# Create a DataFrame from a NumPy array\n",
    "import pandas as pd\n",
    "\n",
    "df = pd.DataFrame(a2)\n",
    "df"
   ]
  },
  {
   "cell_type": "code",
   "execution_count": 15,
   "id": "c86c58eb-23d5-403d-b883-11828dee517a",
   "metadata": {},
   "outputs": [
    {
     "name": "stdout",
     "output_type": "stream",
     "text": [
      "<class 'pandas.core.frame.DataFrame'>\n",
      "RangeIndex: 2 entries, 0 to 1\n",
      "Data columns (total 3 columns):\n",
      " #   Column  Non-Null Count  Dtype  \n",
      "---  ------  --------------  -----  \n",
      " 0   0       2 non-null      float64\n",
      " 1   1       2 non-null      float64\n",
      " 2   2       2 non-null      float64\n",
      "dtypes: float64(3)\n",
      "memory usage: 180.0 bytes\n"
     ]
    }
   ],
   "source": [
    "df.info()"
   ]
  },
  {
   "cell_type": "markdown",
   "id": "4024ce44-60dd-4909-a2c1-d5efc15bca9b",
   "metadata": {},
   "source": [
    "## 2. Creating arrays"
   ]
  },
  {
   "cell_type": "code",
   "execution_count": 16,
   "id": "371f0640-f592-4809-9414-19888e6a44fb",
   "metadata": {},
   "outputs": [
    {
     "data": {
      "text/plain": [
       "array([1, 2, 3])"
      ]
     },
     "execution_count": 16,
     "metadata": {},
     "output_type": "execute_result"
    }
   ],
   "source": [
    "sample_array = np.array([1, 2, 3])\n",
    "sample_array"
   ]
  },
  {
   "cell_type": "code",
   "execution_count": 17,
   "id": "cebe0069-a3ac-48a9-82a7-71758f8429d2",
   "metadata": {},
   "outputs": [
    {
     "data": {
      "text/plain": [
       "dtype('int64')"
      ]
     },
     "execution_count": 17,
     "metadata": {},
     "output_type": "execute_result"
    }
   ],
   "source": [
    "sample_array.dtype"
   ]
  },
  {
   "cell_type": "code",
   "execution_count": 18,
   "id": "d34ea0b8-71bd-49dd-b35c-981d261ccc57",
   "metadata": {},
   "outputs": [],
   "source": [
    "ones = np.ones((2, 3))"
   ]
  },
  {
   "cell_type": "code",
   "execution_count": 19,
   "id": "396713d3-6810-4549-a031-ba2850507df8",
   "metadata": {},
   "outputs": [
    {
     "data": {
      "text/plain": [
       "array([[1., 1., 1.],\n",
       "       [1., 1., 1.]])"
      ]
     },
     "execution_count": 19,
     "metadata": {},
     "output_type": "execute_result"
    }
   ],
   "source": [
    "ones"
   ]
  },
  {
   "cell_type": "code",
   "execution_count": 20,
   "id": "eeb6a55c-1dd8-473b-917d-9c9330303518",
   "metadata": {},
   "outputs": [
    {
     "data": {
      "text/plain": [
       "numpy.ndarray"
      ]
     },
     "execution_count": 20,
     "metadata": {},
     "output_type": "execute_result"
    }
   ],
   "source": [
    "type(ones)"
   ]
  },
  {
   "cell_type": "code",
   "execution_count": 21,
   "id": "7af2764a-8ed5-40ce-bbc2-d2699f6f3cc9",
   "metadata": {},
   "outputs": [
    {
     "data": {
      "text/plain": [
       "array([[0., 0., 0.],\n",
       "       [0., 0., 0.]])"
      ]
     },
     "execution_count": 21,
     "metadata": {},
     "output_type": "execute_result"
    }
   ],
   "source": [
    "zeros = np.zeros((2, 3))\n",
    "zeros"
   ]
  },
  {
   "cell_type": "code",
   "execution_count": 22,
   "id": "5479d547-9d30-487d-8005-6eddefb7ed73",
   "metadata": {},
   "outputs": [
    {
     "data": {
      "text/plain": [
       "dtype('float64')"
      ]
     },
     "execution_count": 22,
     "metadata": {},
     "output_type": "execute_result"
    }
   ],
   "source": [
    "zeros.dtype"
   ]
  },
  {
   "cell_type": "code",
   "execution_count": 23,
   "id": "64c72f53-96de-4889-9b1e-4b164e8b7d34",
   "metadata": {},
   "outputs": [
    {
     "data": {
      "text/plain": [
       "array([0, 2, 4, 6, 8])"
      ]
     },
     "execution_count": 23,
     "metadata": {},
     "output_type": "execute_result"
    }
   ],
   "source": [
    "range_array = np.arange(0, 10, 2)\n",
    "range_array"
   ]
  },
  {
   "cell_type": "code",
   "execution_count": 24,
   "id": "49048dd5-b744-48b5-9486-68690aedb4b3",
   "metadata": {},
   "outputs": [
    {
     "data": {
      "text/plain": [
       "array([[6, 5, 4, 2, 9],\n",
       "       [1, 3, 4, 5, 6],\n",
       "       [7, 9, 8, 1, 6]], dtype=int32)"
      ]
     },
     "execution_count": 24,
     "metadata": {},
     "output_type": "execute_result"
    }
   ],
   "source": [
    "random_array = np.random.randint(0, 10, size=(3, 5))\n",
    "random_array"
   ]
  },
  {
   "cell_type": "code",
   "execution_count": 25,
   "id": "0d804afc-0e1a-4f3d-9f3b-6a72b5e091c6",
   "metadata": {},
   "outputs": [
    {
     "data": {
      "text/plain": [
       "15"
      ]
     },
     "execution_count": 25,
     "metadata": {},
     "output_type": "execute_result"
    }
   ],
   "source": [
    "random_array.size"
   ]
  },
  {
   "cell_type": "code",
   "execution_count": 26,
   "id": "5803c544-5e03-4222-bf5d-e9818e846df0",
   "metadata": {},
   "outputs": [
    {
     "data": {
      "text/plain": [
       "(3, 5)"
      ]
     },
     "execution_count": 26,
     "metadata": {},
     "output_type": "execute_result"
    }
   ],
   "source": [
    "random_array.shape"
   ]
  },
  {
   "cell_type": "code",
   "execution_count": 27,
   "id": "b6ff0d67-efa9-42ee-8454-2e4c506d8012",
   "metadata": {},
   "outputs": [
    {
     "data": {
      "text/plain": [
       "array([[0.96594299, 0.17275125, 0.34884357],\n",
       "       [0.72354469, 0.65543421, 0.60070153],\n",
       "       [0.24280265, 0.64275521, 0.73520697],\n",
       "       [0.35900896, 0.37877139, 0.12065397],\n",
       "       [0.59266649, 0.0275108 , 0.67582085]])"
      ]
     },
     "execution_count": 27,
     "metadata": {},
     "output_type": "execute_result"
    }
   ],
   "source": [
    "random_array_2 = np.random.random((5,3))\n",
    "random_array_2"
   ]
  },
  {
   "cell_type": "code",
   "execution_count": 28,
   "id": "0b9e8f27-b912-44ad-8c0b-aefc0d0df612",
   "metadata": {},
   "outputs": [
    {
     "data": {
      "text/plain": [
       "(5, 3)"
      ]
     },
     "execution_count": 28,
     "metadata": {},
     "output_type": "execute_result"
    }
   ],
   "source": [
    "random_array_2.shape"
   ]
  },
  {
   "cell_type": "code",
   "execution_count": 29,
   "id": "32168b16-352b-4cca-91ac-07d534b580c6",
   "metadata": {},
   "outputs": [
    {
     "data": {
      "text/plain": [
       "array([[0.95548325, 0.70376146, 0.25716558],\n",
       "       [0.43426572, 0.47593636, 0.2210471 ],\n",
       "       [0.74481938, 0.19533418, 0.10792258],\n",
       "       [0.09225543, 0.55732769, 0.65861232],\n",
       "       [0.41435584, 0.63353399, 0.57488437]])"
      ]
     },
     "execution_count": 29,
     "metadata": {},
     "output_type": "execute_result"
    }
   ],
   "source": [
    "random_array_3 = np.random.rand(5, 3)\n",
    "random_array_3"
   ]
  },
  {
   "cell_type": "code",
   "execution_count": 30,
   "id": "3efa232b-b782-4b97-bb3c-9d8b346cabe8",
   "metadata": {},
   "outputs": [
    {
     "data": {
      "text/plain": [
       "(3, 5)"
      ]
     },
     "execution_count": 30,
     "metadata": {},
     "output_type": "execute_result"
    }
   ],
   "source": [
    "random_array.shape"
   ]
  },
  {
   "cell_type": "code",
   "execution_count": 31,
   "id": "93d5f352-fcbc-49b8-afb0-671d00811388",
   "metadata": {},
   "outputs": [
    {
     "data": {
      "text/plain": [
       "array([[5, 0, 3],\n",
       "       [3, 7, 9],\n",
       "       [3, 5, 2],\n",
       "       [4, 7, 6],\n",
       "       [8, 8, 1]], dtype=int32)"
      ]
     },
     "execution_count": 31,
     "metadata": {},
     "output_type": "execute_result"
    }
   ],
   "source": [
    "# Pseudo-random number\n",
    "np.random.seed(seed=0)\n",
    "\n",
    "random_array_4 = np.random.randint(10, size=(5, 3))\n",
    "random_array_4"
   ]
  },
  {
   "cell_type": "code",
   "execution_count": 32,
   "id": "fcd0f50a-d07a-4b93-a4d9-03fc4fe29651",
   "metadata": {},
   "outputs": [
    {
     "data": {
      "text/plain": [
       "array([[0.07630829, 0.77991879, 0.43840923],\n",
       "       [0.72346518, 0.97798951, 0.53849587],\n",
       "       [0.50112046, 0.07205113, 0.26843898],\n",
       "       [0.4998825 , 0.67923   , 0.80373904],\n",
       "       [0.38094113, 0.06593635, 0.2881456 ]])"
      ]
     },
     "execution_count": 32,
     "metadata": {},
     "output_type": "execute_result"
    }
   ],
   "source": [
    "np.random.seed(7)\n",
    "random_array_5 = np.random.random((5, 3))\n",
    "random_array_5"
   ]
  },
  {
   "cell_type": "code",
   "execution_count": 33,
   "id": "b6f8e5e0-11b5-4bff-bd3c-4977fb3e5684",
   "metadata": {},
   "outputs": [
    {
     "data": {
      "text/plain": [
       "array([[0.90959353, 0.21338535, 0.45212396],\n",
       "       [0.93120602, 0.02489923, 0.60054892],\n",
       "       [0.9501295 , 0.23030288, 0.54848992],\n",
       "       [0.90912837, 0.13316945, 0.52341258],\n",
       "       [0.75040986, 0.66901324, 0.46775286]])"
      ]
     },
     "execution_count": 33,
     "metadata": {},
     "output_type": "execute_result"
    }
   ],
   "source": [
    "random_array_5 = np.random.random((5, 3))\n",
    "random_array_5"
   ]
  },
  {
   "cell_type": "code",
   "execution_count": 34,
   "id": "1b1939a2-0b54-4da0-a5e4-f26f0ee09e0a",
   "metadata": {},
   "outputs": [
    {
     "data": {
      "text/plain": [
       "array([[6, 7, 7],\n",
       "       [9, 3, 0],\n",
       "       [7, 7, 7],\n",
       "       [0, 5, 4],\n",
       "       [3, 1, 3]], dtype=int32)"
      ]
     },
     "execution_count": 34,
     "metadata": {},
     "output_type": "execute_result"
    }
   ],
   "source": [
    "random_array_unique = np.random.randint(10, size=(5,3))\n",
    "random_array_unique"
   ]
  },
  {
   "cell_type": "code",
   "execution_count": 35,
   "id": "471c789c-81a0-46b6-b8a3-098fdd14d177",
   "metadata": {},
   "outputs": [
    {
     "data": {
      "text/plain": [
       "array([0, 1, 3, 4, 5, 6, 7, 9], dtype=int32)"
      ]
     },
     "execution_count": 35,
     "metadata": {},
     "output_type": "execute_result"
    }
   ],
   "source": [
    "unique_values = np.unique(random_array_unique)\n",
    "unique_values"
   ]
  },
  {
   "cell_type": "markdown",
   "id": "bbde488e-0bc9-48ec-a91f-aea42d3b91c7",
   "metadata": {},
   "source": [
    "## Viewing arrays and Matrices Indexing "
   ]
  },
  {
   "cell_type": "code",
   "execution_count": 36,
   "id": "9ac49992-f0b3-46f0-817b-ad0f7abea051",
   "metadata": {},
   "outputs": [
    {
     "data": {
      "text/plain": [
       "array([1, 2, 3])"
      ]
     },
     "execution_count": 36,
     "metadata": {},
     "output_type": "execute_result"
    }
   ],
   "source": [
    "a1"
   ]
  },
  {
   "cell_type": "code",
   "execution_count": 37,
   "id": "b8338c9d-8c69-4f2d-8d75-2644e586c1a8",
   "metadata": {},
   "outputs": [
    {
     "data": {
      "text/plain": [
       "array([[1. , 2. , 3.3],\n",
       "       [4. , 5. , 6.5]])"
      ]
     },
     "execution_count": 37,
     "metadata": {},
     "output_type": "execute_result"
    }
   ],
   "source": [
    "a2"
   ]
  },
  {
   "cell_type": "code",
   "execution_count": 38,
   "id": "33a04406-d0e0-4363-be57-9cc8142f1bd6",
   "metadata": {},
   "outputs": [
    {
     "data": {
      "text/plain": [
       "array([[[ 1,  2,  3],\n",
       "        [ 4,  5,  6],\n",
       "        [ 7,  8,  9]],\n",
       "\n",
       "       [[10, 11, 12],\n",
       "        [13, 14, 15],\n",
       "        [16, 17, 18]]])"
      ]
     },
     "execution_count": 38,
     "metadata": {},
     "output_type": "execute_result"
    }
   ],
   "source": [
    "a3"
   ]
  },
  {
   "cell_type": "code",
   "execution_count": 39,
   "id": "ffee3cf4-692c-4f2d-8fe1-81cea7f57de0",
   "metadata": {},
   "outputs": [
    {
     "data": {
      "text/plain": [
       "np.int64(1)"
      ]
     },
     "execution_count": 39,
     "metadata": {},
     "output_type": "execute_result"
    }
   ],
   "source": [
    "a1[0]"
   ]
  },
  {
   "cell_type": "code",
   "execution_count": 40,
   "id": "d1eabded-dafd-474a-8325-631b6564a3e0",
   "metadata": {},
   "outputs": [
    {
     "data": {
      "text/plain": [
       "array([1. , 2. , 3.3])"
      ]
     },
     "execution_count": 40,
     "metadata": {},
     "output_type": "execute_result"
    }
   ],
   "source": [
    "a2[0]"
   ]
  },
  {
   "cell_type": "code",
   "execution_count": 41,
   "id": "892972d5-26ac-4ea0-afb0-10210726b44c",
   "metadata": {},
   "outputs": [
    {
     "data": {
      "text/plain": [
       "np.float64(1.0)"
      ]
     },
     "execution_count": 41,
     "metadata": {},
     "output_type": "execute_result"
    }
   ],
   "source": [
    "a2[0][0]"
   ]
  },
  {
   "cell_type": "code",
   "execution_count": 42,
   "id": "91d8d3d8-17bd-4db8-a129-500132119f87",
   "metadata": {},
   "outputs": [
    {
     "data": {
      "text/plain": [
       "(2, 3, 3)"
      ]
     },
     "execution_count": 42,
     "metadata": {},
     "output_type": "execute_result"
    }
   ],
   "source": [
    "a3.shape"
   ]
  },
  {
   "cell_type": "code",
   "execution_count": 43,
   "id": "a2fe5ff3-d61f-4c03-8b6c-f80d2b8b5e79",
   "metadata": {},
   "outputs": [
    {
     "data": {
      "text/plain": [
       "array([[1, 2, 3],\n",
       "       [4, 5, 6],\n",
       "       [7, 8, 9]])"
      ]
     },
     "execution_count": 43,
     "metadata": {},
     "output_type": "execute_result"
    }
   ],
   "source": [
    "a3[0]"
   ]
  },
  {
   "cell_type": "code",
   "execution_count": 44,
   "id": "edfc86ef-df94-4e4d-9c9c-78c1d037cb52",
   "metadata": {},
   "outputs": [
    {
     "data": {
      "text/plain": [
       "array([[[ 1,  2,  3],\n",
       "        [ 4,  5,  6],\n",
       "        [ 7,  8,  9]],\n",
       "\n",
       "       [[10, 11, 12],\n",
       "        [13, 14, 15],\n",
       "        [16, 17, 18]]])"
      ]
     },
     "execution_count": 44,
     "metadata": {},
     "output_type": "execute_result"
    }
   ],
   "source": [
    "a3"
   ]
  },
  {
   "cell_type": "code",
   "execution_count": 45,
   "id": "110ea022-5fea-48eb-b0c6-06d97de54601",
   "metadata": {},
   "outputs": [
    {
     "data": {
      "text/plain": [
       "array([[[ 1,  2],\n",
       "        [ 4,  5]],\n",
       "\n",
       "       [[10, 11],\n",
       "        [13, 14]]])"
      ]
     },
     "execution_count": 45,
     "metadata": {},
     "output_type": "execute_result"
    }
   ],
   "source": [
    "a3[:2, :2, :2]"
   ]
  },
  {
   "cell_type": "code",
   "execution_count": 46,
   "id": "ce44f808-0c01-4fea-ace2-e9c672b031f3",
   "metadata": {},
   "outputs": [
    {
     "data": {
      "text/plain": [
       "array([[[[1, 3, 4, 3, 1],\n",
       "         [9, 5, 9, 1, 2],\n",
       "         [3, 2, 2, 5, 7],\n",
       "         [3, 0, 9, 9, 3]],\n",
       "\n",
       "        [[4, 5, 3, 0, 4],\n",
       "         [8, 6, 7, 2, 7],\n",
       "         [3, 8, 6, 6, 5],\n",
       "         [6, 5, 7, 1, 5]],\n",
       "\n",
       "        [[4, 4, 9, 9, 0],\n",
       "         [6, 2, 6, 8, 2],\n",
       "         [4, 1, 6, 1, 5],\n",
       "         [1, 6, 9, 8, 6]]],\n",
       "\n",
       "\n",
       "       [[[5, 9, 7, 5, 4],\n",
       "         [9, 6, 8, 1, 5],\n",
       "         [5, 8, 3, 7, 7],\n",
       "         [9, 4, 7, 5, 9]],\n",
       "\n",
       "        [[6, 2, 0, 5, 3],\n",
       "         [0, 5, 7, 1, 8],\n",
       "         [4, 9, 0, 2, 0],\n",
       "         [7, 6, 2, 9, 9]],\n",
       "\n",
       "        [[5, 1, 0, 0, 9],\n",
       "         [1, 1, 5, 3, 2],\n",
       "         [0, 4, 8, 7, 1],\n",
       "         [4, 9, 3, 6, 7]]]], dtype=int32)"
      ]
     },
     "execution_count": 46,
     "metadata": {},
     "output_type": "execute_result"
    }
   ],
   "source": [
    "a4 = np.random.randint(10, size=(2, 3, 4, 5))\n",
    "a4"
   ]
  },
  {
   "cell_type": "code",
   "execution_count": 47,
   "id": "e601b083-9eef-438e-ba4d-d6333635265f",
   "metadata": {},
   "outputs": [
    {
     "data": {
      "text/plain": [
       "((2, 3, 4, 5), 4)"
      ]
     },
     "execution_count": 47,
     "metadata": {},
     "output_type": "execute_result"
    }
   ],
   "source": [
    "a4.shape, a4.ndim"
   ]
  },
  {
   "cell_type": "code",
   "execution_count": 48,
   "id": "85b0e5f7-ee50-49b4-b2c2-381c4ca33119",
   "metadata": {},
   "outputs": [
    {
     "data": {
      "text/plain": [
       "numpy.ndarray"
      ]
     },
     "execution_count": 48,
     "metadata": {},
     "output_type": "execute_result"
    }
   ],
   "source": [
    "type(a4)"
   ]
  },
  {
   "cell_type": "code",
   "execution_count": 49,
   "id": "f83fcc15-6524-48b2-b2a1-9f1acb4818ea",
   "metadata": {},
   "outputs": [
    {
     "data": {
      "text/plain": [
       "120"
      ]
     },
     "execution_count": 49,
     "metadata": {},
     "output_type": "execute_result"
    }
   ],
   "source": [
    "a4.size"
   ]
  },
  {
   "cell_type": "code",
   "execution_count": 50,
   "id": "6e7b7f4a-ab01-4dbf-ad54-692e1bd596e8",
   "metadata": {},
   "outputs": [
    {
     "data": {
      "text/plain": [
       "array([[[[1, 3, 4, 3],\n",
       "         [9, 5, 9, 1],\n",
       "         [3, 2, 2, 5],\n",
       "         [3, 0, 9, 9]],\n",
       "\n",
       "        [[4, 5, 3, 0],\n",
       "         [8, 6, 7, 2],\n",
       "         [3, 8, 6, 6],\n",
       "         [6, 5, 7, 1]],\n",
       "\n",
       "        [[4, 4, 9, 9],\n",
       "         [6, 2, 6, 8],\n",
       "         [4, 1, 6, 1],\n",
       "         [1, 6, 9, 8]]],\n",
       "\n",
       "\n",
       "       [[[5, 9, 7, 5],\n",
       "         [9, 6, 8, 1],\n",
       "         [5, 8, 3, 7],\n",
       "         [9, 4, 7, 5]],\n",
       "\n",
       "        [[6, 2, 0, 5],\n",
       "         [0, 5, 7, 1],\n",
       "         [4, 9, 0, 2],\n",
       "         [7, 6, 2, 9]],\n",
       "\n",
       "        [[5, 1, 0, 0],\n",
       "         [1, 1, 5, 3],\n",
       "         [0, 4, 8, 7],\n",
       "         [4, 9, 3, 6]]]], dtype=int32)"
      ]
     },
     "execution_count": 50,
     "metadata": {},
     "output_type": "execute_result"
    }
   ],
   "source": [
    "# Get the first 4 numbers of the inner most arrays\n",
    "a4[:, :, :, :4]"
   ]
  },
  {
   "cell_type": "markdown",
   "id": "f811f6bc-87ac-45e6-8e90-0c28f93731f3",
   "metadata": {},
   "source": [
    "## 4. Manipulating and Comparing arrays"
   ]
  },
  {
   "cell_type": "markdown",
   "id": "fb35034e-81e6-49af-847a-a6e8314a3736",
   "metadata": {},
   "source": [
    "### Arithmatic"
   ]
  },
  {
   "cell_type": "code",
   "execution_count": 51,
   "id": "a1d01b5e-a9c8-458b-91cd-7e642c789be8",
   "metadata": {},
   "outputs": [
    {
     "data": {
      "text/plain": [
       "array([1, 2, 3])"
      ]
     },
     "execution_count": 51,
     "metadata": {},
     "output_type": "execute_result"
    }
   ],
   "source": [
    "a1"
   ]
  },
  {
   "cell_type": "code",
   "execution_count": 52,
   "id": "d910489f-9289-4bda-afcd-ebc76a9653c1",
   "metadata": {},
   "outputs": [
    {
     "data": {
      "text/plain": [
       "array([1., 1., 1.])"
      ]
     },
     "execution_count": 52,
     "metadata": {},
     "output_type": "execute_result"
    }
   ],
   "source": [
    "ones = np.ones(3)\n",
    "ones"
   ]
  },
  {
   "cell_type": "code",
   "execution_count": 53,
   "id": "ae1676c0-fa15-41c5-bfd6-c86064f1a41e",
   "metadata": {},
   "outputs": [
    {
     "data": {
      "text/plain": [
       "array([2., 3., 4.])"
      ]
     },
     "execution_count": 53,
     "metadata": {},
     "output_type": "execute_result"
    }
   ],
   "source": [
    "a1 + ones"
   ]
  },
  {
   "cell_type": "code",
   "execution_count": 54,
   "id": "b0e07ee3-e5f6-4726-bfec-ee6737d20333",
   "metadata": {},
   "outputs": [
    {
     "data": {
      "text/plain": [
       "array([0., 1., 2.])"
      ]
     },
     "execution_count": 54,
     "metadata": {},
     "output_type": "execute_result"
    }
   ],
   "source": [
    "a1 - ones"
   ]
  },
  {
   "cell_type": "code",
   "execution_count": 55,
   "id": "9f22676c-dcbf-4465-ae31-7179aaccf059",
   "metadata": {},
   "outputs": [
    {
     "data": {
      "text/plain": [
       "array([1., 2., 3.])"
      ]
     },
     "execution_count": 55,
     "metadata": {},
     "output_type": "execute_result"
    }
   ],
   "source": [
    "a1 * ones"
   ]
  },
  {
   "cell_type": "code",
   "execution_count": 56,
   "id": "fda92b94-3aaa-4a4c-b3f9-c18d94ca6e03",
   "metadata": {},
   "outputs": [
    {
     "data": {
      "text/plain": [
       "array([1, 2, 3])"
      ]
     },
     "execution_count": 56,
     "metadata": {},
     "output_type": "execute_result"
    }
   ],
   "source": [
    "a1"
   ]
  },
  {
   "cell_type": "code",
   "execution_count": 57,
   "id": "d07329cb-75b0-424a-9a3c-f5aa921bca57",
   "metadata": {},
   "outputs": [
    {
     "data": {
      "text/plain": [
       "array([[1. , 2. , 3.3],\n",
       "       [4. , 5. , 6.5]])"
      ]
     },
     "execution_count": 57,
     "metadata": {},
     "output_type": "execute_result"
    }
   ],
   "source": [
    "a2"
   ]
  },
  {
   "cell_type": "code",
   "execution_count": 58,
   "id": "2b3ad2a0-bdbb-4fa6-88a1-b41fa06bf59f",
   "metadata": {},
   "outputs": [
    {
     "data": {
      "text/plain": [
       "array([[ 1. ,  4. ,  9.9],\n",
       "       [ 4. , 10. , 19.5]])"
      ]
     },
     "execution_count": 58,
     "metadata": {},
     "output_type": "execute_result"
    }
   ],
   "source": [
    "a1 * a2"
   ]
  },
  {
   "cell_type": "code",
   "execution_count": 59,
   "id": "6e2290ff-e6b3-450d-af8f-fd1b8d0eab6f",
   "metadata": {},
   "outputs": [
    {
     "data": {
      "text/plain": [
       "array([[[ 1,  2,  3],\n",
       "        [ 4,  5,  6],\n",
       "        [ 7,  8,  9]],\n",
       "\n",
       "       [[10, 11, 12],\n",
       "        [13, 14, 15],\n",
       "        [16, 17, 18]]])"
      ]
     },
     "execution_count": 59,
     "metadata": {},
     "output_type": "execute_result"
    }
   ],
   "source": [
    "a3"
   ]
  },
  {
   "cell_type": "code",
   "execution_count": 60,
   "id": "ec82813c-5025-4357-8d86-19bb8b6bcc1f",
   "metadata": {},
   "outputs": [
    {
     "ename": "ValueError",
     "evalue": "operands could not be broadcast together with shapes (2,3) (2,3,3) ",
     "output_type": "error",
     "traceback": [
      "\u001b[1;31m---------------------------------------------------------------------------\u001b[0m",
      "\u001b[1;31mValueError\u001b[0m                                Traceback (most recent call last)",
      "Cell \u001b[1;32mIn[60], line 3\u001b[0m\n\u001b[0;32m      1\u001b[0m \u001b[38;5;66;03m# How can you reshape a2 to be compatible with a3\u001b[39;00m\n\u001b[0;32m      2\u001b[0m \u001b[38;5;66;03m# How to reshape numpy array\u001b[39;00m\n\u001b[1;32m----> 3\u001b[0m a2 \u001b[38;5;241m*\u001b[39m a3\n",
      "\u001b[1;31mValueError\u001b[0m: operands could not be broadcast together with shapes (2,3) (2,3,3) "
     ]
    }
   ],
   "source": [
    "# How can you reshape a2 to be compatible with a3\n",
    "# How to reshape numpy array\n",
    "a2 * a3"
   ]
  },
  {
   "cell_type": "code",
   "execution_count": null,
   "id": "45fbccce-6f73-45c7-b1b4-59be2f85b2df",
   "metadata": {},
   "outputs": [],
   "source": [
    "a3.shape"
   ]
  },
  {
   "cell_type": "code",
   "execution_count": null,
   "id": "16b38b49-642b-49ba-a0d3-cb64bbeb89cc",
   "metadata": {},
   "outputs": [],
   "source": [
    "a2.shape"
   ]
  },
  {
   "cell_type": "code",
   "execution_count": null,
   "id": "bc36ab52-e40c-4426-a6b1-0f1b74119177",
   "metadata": {},
   "outputs": [],
   "source": [
    "reshape_a2 = a2.reshape((2,3,1))\n",
    "reshape_a2"
   ]
  },
  {
   "cell_type": "code",
   "execution_count": null,
   "id": "7b6546fd-b418-4009-af41-bd762ec4afbf",
   "metadata": {},
   "outputs": [],
   "source": [
    "reshape_a2.shape"
   ]
  },
  {
   "cell_type": "code",
   "execution_count": null,
   "id": "5ba9f8f2-8e96-45a9-ab76-b0fabd39de0d",
   "metadata": {},
   "outputs": [],
   "source": [
    "reshape_a2 * a3"
   ]
  },
  {
   "cell_type": "code",
   "execution_count": null,
   "id": "61185de0-8509-412b-8b0a-612838deb111",
   "metadata": {},
   "outputs": [],
   "source": [
    "a3 * a2"
   ]
  },
  {
   "cell_type": "code",
   "execution_count": null,
   "id": "3076cbfc-22de-4a74-8a2f-12fdbd1f0223",
   "metadata": {},
   "outputs": [],
   "source": [
    "a2 * a1"
   ]
  },
  {
   "cell_type": "code",
   "execution_count": null,
   "id": "c652485b-f8f5-4171-a261-b381e7758b00",
   "metadata": {},
   "outputs": [],
   "source": [
    "a2.shape"
   ]
  },
  {
   "cell_type": "code",
   "execution_count": null,
   "id": "16191d8e-35e7-4e22-b053-802368e0c51e",
   "metadata": {},
   "outputs": [],
   "source": [
    "a1.shape"
   ]
  },
  {
   "cell_type": "code",
   "execution_count": null,
   "id": "35266d8c-c118-4921-9e77-233e07211998",
   "metadata": {},
   "outputs": [],
   "source": [
    "a2"
   ]
  },
  {
   "cell_type": "code",
   "execution_count": null,
   "id": "9eb5a39b-0f66-4ffb-b32d-0cfd8eb381d9",
   "metadata": {},
   "outputs": [],
   "source": [
    "a1"
   ]
  },
  {
   "cell_type": "code",
   "execution_count": null,
   "id": "e9f03172-3861-409e-a3db-c4c174a2f735",
   "metadata": {},
   "outputs": [],
   "source": [
    "a3.shape"
   ]
  },
  {
   "cell_type": "code",
   "execution_count": null,
   "id": "f6f1d12d-a77b-43c4-8ec4-2072d03d18b0",
   "metadata": {},
   "outputs": [],
   "source": [
    "a3"
   ]
  },
  {
   "cell_type": "code",
   "execution_count": null,
   "id": "3403254b-3e22-45a9-8ad7-9d57517c3a05",
   "metadata": {},
   "outputs": [],
   "source": [
    "a_test = np.random.randint(10, size=(3,3))\n",
    "a_test"
   ]
  },
  {
   "cell_type": "code",
   "execution_count": null,
   "id": "1281de85-6316-4232-9356-21621d346416",
   "metadata": {},
   "outputs": [],
   "source": [
    "a_test * a3"
   ]
  },
  {
   "cell_type": "code",
   "execution_count": null,
   "id": "55db169a-6e5a-43c2-82ed-1e0f6e218e90",
   "metadata": {},
   "outputs": [],
   "source": [
    "a_test2 = np.random.randint(10, size=(3,3))\n",
    "a_test2"
   ]
  },
  {
   "cell_type": "code",
   "execution_count": 61,
   "id": "9e5da9d2-f96f-4bc8-aabe-43e132247b1d",
   "metadata": {},
   "outputs": [
    {
     "data": {
      "text/plain": [
       "array([1., 1., 1.])"
      ]
     },
     "execution_count": 61,
     "metadata": {},
     "output_type": "execute_result"
    }
   ],
   "source": [
    "ones"
   ]
  },
  {
   "cell_type": "code",
   "execution_count": 62,
   "id": "fbd8fd2f-95ee-4b72-ab9f-3f54511ace1b",
   "metadata": {},
   "outputs": [
    {
     "data": {
      "text/plain": [
       "array([[[ 1.,  2.,  3.],\n",
       "        [ 4.,  5.,  6.],\n",
       "        [ 7.,  8.,  9.]],\n",
       "\n",
       "       [[10., 11., 12.],\n",
       "        [13., 14., 15.],\n",
       "        [16., 17., 18.]]])"
      ]
     },
     "execution_count": 62,
     "metadata": {},
     "output_type": "execute_result"
    }
   ],
   "source": [
    "a3 * ones"
   ]
  },
  {
   "cell_type": "code",
   "execution_count": 63,
   "id": "fbbe5109-951b-4467-a479-8acbc73d1e54",
   "metadata": {},
   "outputs": [
    {
     "data": {
      "text/plain": [
       "array([[[ 1,  4,  9],\n",
       "        [ 4, 10, 18],\n",
       "        [ 7, 16, 27]],\n",
       "\n",
       "       [[10, 22, 36],\n",
       "        [13, 28, 45],\n",
       "        [16, 34, 54]]])"
      ]
     },
     "execution_count": 63,
     "metadata": {},
     "output_type": "execute_result"
    }
   ],
   "source": [
    "a3 * a1"
   ]
  },
  {
   "cell_type": "code",
   "execution_count": 64,
   "id": "9882181e-808a-4ef3-b61c-278fa4cda82b",
   "metadata": {},
   "outputs": [
    {
     "ename": "ValueError",
     "evalue": "operands could not be broadcast together with shapes (2,3,3) (2,3) ",
     "output_type": "error",
     "traceback": [
      "\u001b[1;31m---------------------------------------------------------------------------\u001b[0m",
      "\u001b[1;31mValueError\u001b[0m                                Traceback (most recent call last)",
      "Cell \u001b[1;32mIn[64], line 1\u001b[0m\n\u001b[1;32m----> 1\u001b[0m a3 \u001b[38;5;241m*\u001b[39m a2\n",
      "\u001b[1;31mValueError\u001b[0m: operands could not be broadcast together with shapes (2,3,3) (2,3) "
     ]
    }
   ],
   "source": [
    "a3 * a2"
   ]
  },
  {
   "cell_type": "code",
   "execution_count": 65,
   "id": "8668d0fb-626f-4d25-83d2-80c9cd4292db",
   "metadata": {},
   "outputs": [
    {
     "data": {
      "text/plain": [
       "array([[1. , 2. , 3.3],\n",
       "       [4. , 5. , 6.5]])"
      ]
     },
     "execution_count": 65,
     "metadata": {},
     "output_type": "execute_result"
    }
   ],
   "source": [
    "a2"
   ]
  },
  {
   "cell_type": "code",
   "execution_count": 66,
   "id": "15f3dc78-5462-48df-af15-1d26590741c3",
   "metadata": {},
   "outputs": [
    {
     "data": {
      "text/plain": [
       "array([[[ 1,  2,  3],\n",
       "        [ 4,  5,  6],\n",
       "        [ 7,  8,  9]],\n",
       "\n",
       "       [[10, 11, 12],\n",
       "        [13, 14, 15],\n",
       "        [16, 17, 18]]])"
      ]
     },
     "execution_count": 66,
     "metadata": {},
     "output_type": "execute_result"
    }
   ],
   "source": [
    "a3"
   ]
  },
  {
   "cell_type": "code",
   "execution_count": 67,
   "id": "15c00cc7-6d65-431b-9eb8-25d353c50915",
   "metadata": {},
   "outputs": [
    {
     "data": {
      "text/plain": [
       "array([1., 2., 3.])"
      ]
     },
     "execution_count": 67,
     "metadata": {},
     "output_type": "execute_result"
    }
   ],
   "source": [
    "a1 / ones"
   ]
  },
  {
   "cell_type": "code",
   "execution_count": 68,
   "id": "eb91f407-8769-4d04-96e0-3f832eb44353",
   "metadata": {},
   "outputs": [
    {
     "data": {
      "text/plain": [
       "array([[1., 1., 1.],\n",
       "       [4., 2., 2.]])"
      ]
     },
     "execution_count": 68,
     "metadata": {},
     "output_type": "execute_result"
    }
   ],
   "source": [
    "a2 // a1"
   ]
  },
  {
   "cell_type": "code",
   "execution_count": 69,
   "id": "9f081b8e-bb41-4609-bdbb-36d8fc8d0cbc",
   "metadata": {},
   "outputs": [
    {
     "data": {
      "text/plain": [
       "array([[1.        , 1.        , 1.1       ],\n",
       "       [4.        , 2.5       , 2.16666667]])"
      ]
     },
     "execution_count": 69,
     "metadata": {},
     "output_type": "execute_result"
    }
   ],
   "source": [
    "a2 / a1"
   ]
  },
  {
   "cell_type": "code",
   "execution_count": 70,
   "id": "2f4982d4-c244-4f99-a565-b5bc60661d67",
   "metadata": {},
   "outputs": [
    {
     "data": {
      "text/plain": [
       "array([[1., 1., 1.],\n",
       "       [4., 2., 2.]])"
      ]
     },
     "execution_count": 70,
     "metadata": {},
     "output_type": "execute_result"
    }
   ],
   "source": [
    "# Floor divisoiin removes the decimal, pembualan kebawah terdekat\n",
    "a2 // a1"
   ]
  },
  {
   "cell_type": "code",
   "execution_count": 71,
   "id": "d0a3fe60-dce7-4243-9f43-351e78642d1d",
   "metadata": {},
   "outputs": [
    {
     "data": {
      "text/plain": [
       "array([[ 1.  ,  4.  , 10.89],\n",
       "       [16.  , 25.  , 42.25]])"
      ]
     },
     "execution_count": 71,
     "metadata": {},
     "output_type": "execute_result"
    }
   ],
   "source": [
    "a2 ** 2"
   ]
  },
  {
   "cell_type": "code",
   "execution_count": 72,
   "id": "31de2905-01e7-4456-bd47-ca533eaad4b4",
   "metadata": {},
   "outputs": [
    {
     "data": {
      "text/plain": [
       "array([[1. , 2. , 3.3],\n",
       "       [4. , 5. , 6.5]])"
      ]
     },
     "execution_count": 72,
     "metadata": {},
     "output_type": "execute_result"
    }
   ],
   "source": [
    "a2"
   ]
  },
  {
   "cell_type": "code",
   "execution_count": 73,
   "id": "3d043788-c9b8-4a00-b87b-cd298c1465a4",
   "metadata": {},
   "outputs": [
    {
     "data": {
      "text/plain": [
       "array([1, 0, 1])"
      ]
     },
     "execution_count": 73,
     "metadata": {},
     "output_type": "execute_result"
    }
   ],
   "source": [
    "a1 % 2"
   ]
  },
  {
   "cell_type": "code",
   "execution_count": 74,
   "id": "ee3c78a0-2618-4031-ae73-0435a5175ab9",
   "metadata": {},
   "outputs": [
    {
     "data": {
      "text/plain": [
       "array([1, 2, 3])"
      ]
     },
     "execution_count": 74,
     "metadata": {},
     "output_type": "execute_result"
    }
   ],
   "source": [
    "a1"
   ]
  },
  {
   "cell_type": "code",
   "execution_count": 75,
   "id": "d1a5762c-57af-4cd0-94e1-4a95c8a77761",
   "metadata": {},
   "outputs": [
    {
     "data": {
      "text/plain": [
       "array([[1. , 0. , 1.3],\n",
       "       [0. , 1. , 0.5]])"
      ]
     },
     "execution_count": 75,
     "metadata": {},
     "output_type": "execute_result"
    }
   ],
   "source": [
    "a2 % 2"
   ]
  },
  {
   "cell_type": "code",
   "execution_count": 76,
   "id": "c4583b3c-c123-4027-885a-a6eb9ef76ebe",
   "metadata": {},
   "outputs": [
    {
     "data": {
      "text/plain": [
       "array([[  2.71828183,   7.3890561 ,  27.11263892],\n",
       "       [ 54.59815003, 148.4131591 , 665.14163304]])"
      ]
     },
     "execution_count": 76,
     "metadata": {},
     "output_type": "execute_result"
    }
   ],
   "source": [
    "np.exp(a2)"
   ]
  },
  {
   "cell_type": "markdown",
   "id": "6e4ef395-a43e-45c8-b0c7-a8c1c939b8e1",
   "metadata": {},
   "source": [
    "## Aggregatoin\n",
    "\n",
    "Aggregation = performing the same operation on a number of things"
   ]
  },
  {
   "cell_type": "code",
   "execution_count": 77,
   "id": "53edf760-7a4a-4de3-96f3-4f68bde565c3",
   "metadata": {},
   "outputs": [
    {
     "data": {
      "text/plain": [
       "list"
      ]
     },
     "execution_count": 77,
     "metadata": {},
     "output_type": "execute_result"
    }
   ],
   "source": [
    "listy_list = [1, 2, 3]\n",
    "type(listy_list)"
   ]
  },
  {
   "cell_type": "code",
   "execution_count": 78,
   "id": "67220259-b35c-4c3e-a8b0-75f91b21d27e",
   "metadata": {},
   "outputs": [
    {
     "data": {
      "text/plain": [
       "6"
      ]
     },
     "execution_count": 78,
     "metadata": {},
     "output_type": "execute_result"
    }
   ],
   "source": [
    "sum(listy_list)"
   ]
  },
  {
   "cell_type": "code",
   "execution_count": 79,
   "id": "4890cb45-4cee-46af-becc-acdc50f0ffcc",
   "metadata": {},
   "outputs": [
    {
     "data": {
      "text/plain": [
       "array([1, 2, 3])"
      ]
     },
     "execution_count": 79,
     "metadata": {},
     "output_type": "execute_result"
    }
   ],
   "source": [
    "a1"
   ]
  },
  {
   "cell_type": "code",
   "execution_count": 80,
   "id": "b9d4171a-7c08-4043-a439-d946165e9de0",
   "metadata": {},
   "outputs": [],
   "source": [
    "# Demo of std and var\n",
    "high_var_array = np.array([1, 100, 200, 300, 4000, 5000])\n",
    "low_var_array = np.array([2, 4, 6, 8, 10])"
   ]
  },
  {
   "cell_type": "code",
   "execution_count": 81,
   "id": "3f19c262-c908-40f0-acb7-eeaebfbe53cb",
   "metadata": {},
   "outputs": [
    {
     "data": {
      "text/plain": [
       "(np.float64(4296133.472222221), np.float64(8.0))"
      ]
     },
     "execution_count": 81,
     "metadata": {},
     "output_type": "execute_result"
    }
   ],
   "source": [
    "np.var(high_var_array), np.var(low_var_array)"
   ]
  },
  {
   "cell_type": "code",
   "execution_count": 82,
   "id": "7bc173eb-e328-47b8-8cb2-7bfb10f214e0",
   "metadata": {},
   "outputs": [
    {
     "data": {
      "text/plain": [
       "(np.float64(2072.711623024829), np.float64(2.8284271247461903))"
      ]
     },
     "execution_count": 82,
     "metadata": {},
     "output_type": "execute_result"
    }
   ],
   "source": [
    "np.std(high_var_array), np.std(low_var_array)"
   ]
  },
  {
   "cell_type": "code",
   "execution_count": 83,
   "id": "288856cf-aa86-4742-bb52-be9236e321ea",
   "metadata": {},
   "outputs": [
    {
     "data": {
      "text/plain": [
       "(np.float64(1600.1666666666667), np.float64(6.0))"
      ]
     },
     "execution_count": 83,
     "metadata": {},
     "output_type": "execute_result"
    }
   ],
   "source": [
    "np.mean(high_var_array), np.mean(low_var_array)"
   ]
  },
  {
   "cell_type": "code",
   "execution_count": 84,
   "id": "d2efd432-e4e0-49d7-8baa-26e66379789e",
   "metadata": {},
   "outputs": [
    {
     "data": {
      "image/png": "[encoded data removed]",
      "text/plain": [
       "<Figure size 640x480 with 1 Axes>"
      ]
     },
     "metadata": {},
     "output_type": "display_data"
    }
   ],
   "source": [
    "%matplotlib inline\n",
    "import matplotlib.pyplot as plt\n",
    "plt.hist(high_var_array)\n",
    "plt.show()"
   ]
  },
  {
   "cell_type": "code",
   "execution_count": 86,
   "id": "d7f7fe00-b6a8-45ef-bc68-3d2fe5dce66e",
   "metadata": {},
   "outputs": [
    {
     "data": {
      "image/png": "[encoded data removed]",
      "text/plain": [
       "<Figure size 640x480 with 1 Axes>"
      ]
     },
     "metadata": {},
     "output_type": "display_data"
    }
   ],
   "source": [
    "plt.hist(low_var_array)\n",
    "plt.show()"
   ]
  },
  {
   "cell_type": "code",
   "execution_count": 104,
   "id": "85b97734-afab-43d2-9385-a6f578296fad",
   "metadata": {},
   "outputs": [],
   "source": [
    "data_low_var = np.random.normal(loc=50, scale=5, size=1000)"
   ]
  },
  {
   "cell_type": "code",
   "execution_count": 105,
   "id": "d0d8be50-0f3f-4221-8c01-7f775bb24ece",
   "metadata": {},
   "outputs": [
    {
     "data": {
      "text/plain": [
       "array([53.50030762, 47.10453979, 42.39174247, 48.19340662, 59.66270264,\n",
       "       43.0415067 , 46.72634921, 55.33867141, 56.78951045, 52.96949204,\n",
       "       47.38203447, 51.62459748, 40.72882483, 47.64136535, 54.50706437,\n",
       "       48.00325999, 48.34674165, 51.02467761, 46.64947528, 47.29660506,\n",
       "       50.39004327, 48.44857283, 36.88815294, 46.07633811, 53.53287804,\n",
       "       36.92225576, 51.28787241, 43.47558922, 50.28697544, 49.96101089,\n",
       "       42.98742948, 50.95202446, 48.24122021, 46.8954495 , 55.25093966,\n",
       "       47.80730502, 42.13923447, 48.779693  , 54.02030544, 61.29201057,\n",
       "       51.68290168, 55.95287082, 49.50037211, 47.14584401, 34.67380053,\n",
       "       46.79448861, 49.81013401, 47.64251917, 49.02326071, 44.99431895,\n",
       "       50.70452565, 39.41082593, 51.70071542, 51.30397529, 44.26648538,\n",
       "       46.06990545, 50.03551863, 58.26764376, 47.98564984, 47.3129429 ,\n",
       "       41.99763563, 45.91366347, 49.17719278, 53.42886047, 50.78907134,\n",
       "       46.44386967, 45.96588291, 41.30166194, 49.63874514, 50.32144842,\n",
       "       45.72246047, 47.79117208, 46.16862972, 50.26386983, 49.14312952,\n",
       "       49.51655397, 54.63521161, 50.89326243, 42.15296321, 52.91701508,\n",
       "       40.18459214, 54.0286026 , 49.97953174, 47.79405919, 51.76737928,\n",
       "       48.13107639, 47.13539453, 46.23022076, 43.69520268, 42.37357851,\n",
       "       44.2775825 , 46.23603064, 52.53770522, 45.2333189 , 51.37260543,\n",
       "       45.65522197, 59.7006342 , 45.41825366, 51.13310923, 48.44384665,\n",
       "       51.59557675, 47.30726685, 51.48078894, 56.46108099, 46.05178428,\n",
       "       44.42011952, 50.0975795 , 48.23361447, 47.81440112, 49.78728332,\n",
       "       48.6082961 , 56.42280433, 47.35034921, 56.22328694, 50.87709395,\n",
       "       53.54158906, 52.69189355, 51.43001228, 49.34667751, 54.23825896,\n",
       "       49.28976711, 46.65959828, 46.80732043, 49.93553477, 49.01175564,\n",
       "       51.03779841, 57.01084038, 55.08543118, 56.49263777, 48.79963101,\n",
       "       42.64447983, 53.8357323 , 50.76616654, 54.36737322, 49.22763529,\n",
       "       45.67891314, 45.705849  , 44.89456886, 55.51547797, 49.22241387,\n",
       "       45.32748277, 44.0672897 , 52.9657763 , 52.80664522, 46.55310306,\n",
       "       49.32009278, 50.94607991, 52.07578664, 46.44074819, 51.82430481,\n",
       "       48.97810328, 44.87706288, 44.56286496, 48.1917702 , 47.63700388,\n",
       "       38.55492453, 48.08419563, 49.86637731, 53.49108024, 48.88508587,\n",
       "       49.33020939, 51.94997689, 46.642581  , 43.46100832, 52.87290929,\n",
       "       47.94527968, 50.6649105 , 48.93955821, 54.02890502, 50.00829631,\n",
       "       48.40290988, 57.93405867, 48.10954726, 58.37875863, 49.40697479,\n",
       "       44.71855098, 45.21144524, 51.84903998, 41.48510724, 47.5795309 ,\n",
       "       47.54750659, 40.53888972, 56.34079077, 54.31089691, 50.92720888,\n",
       "       56.31351743, 53.23622884, 52.77213232, 54.42579635, 50.90195197,\n",
       "       51.47874033, 53.30525972, 47.26336237, 55.97236034, 37.87196645,\n",
       "       54.10136841, 58.61201937, 48.88256256, 46.69104274, 44.31069542,\n",
       "       50.6284788 , 46.71915085, 49.63403057, 54.44321754, 47.9238709 ,\n",
       "       56.60607078, 50.67076649, 51.8995656 , 51.54885645, 64.22369314,\n",
       "       56.89344242, 52.30352045, 49.26825675, 52.79021383, 53.19414946,\n",
       "       46.35272649, 47.66746422, 52.40389455, 52.75474554, 46.00835762,\n",
       "       50.0202804 , 46.0920273 , 47.96759028, 46.83830722, 55.58212516,\n",
       "       46.64214865, 53.04291818, 55.07450321, 48.34381753, 56.88297292,\n",
       "       54.03450227, 47.31154169, 53.06990618, 52.05707114, 47.72267087,\n",
       "       47.99721343, 43.67641981, 53.38363744, 46.87931601, 55.58128835,\n",
       "       54.14731592, 50.82069125, 56.82312451, 52.08423282, 47.53026187,\n",
       "       46.42973946, 43.73602475, 53.42383782, 50.40763439, 46.74752415,\n",
       "       55.24261184, 58.6575779 , 49.38092809, 49.999542  , 58.09501105,\n",
       "       49.09303672, 51.29931013, 54.91198603, 50.12457753, 54.11321062,\n",
       "       51.48026073, 49.94234495, 53.95158655, 56.92828983, 48.4898542 ,\n",
       "       47.31560006, 49.90829529, 45.2833743 , 48.40218828, 48.61263839,\n",
       "       48.32133343, 44.63500002, 37.37333087, 45.35169013, 46.22296294,\n",
       "       45.25814259, 45.98335284, 56.12493282, 51.5014555 , 64.29897921,\n",
       "       56.01146635, 57.94278551, 48.57056823, 48.85252417, 51.94728546,\n",
       "       61.90793459, 61.86646   , 59.5544919 , 50.69367232, 51.87791014,\n",
       "       50.70010765, 57.65783227, 40.21002031, 50.9626308 , 55.32143711,\n",
       "       50.45502894, 50.97464053, 52.50450056, 39.50944404, 40.81117311,\n",
       "       52.03177644, 54.68724281, 51.62043588, 44.14625595, 50.45265246,\n",
       "       46.06932316, 55.1613852 , 49.89242881, 49.5096848 , 47.44130334,\n",
       "       48.26013245, 49.4658172 , 56.19982021, 45.60620445, 48.23520415,\n",
       "       49.35062216, 53.25604697, 37.64596598, 45.09224599, 49.91138537,\n",
       "       45.92567603, 48.58905181, 46.81118322, 54.09727664, 45.22430473,\n",
       "       47.15308012, 47.04241998, 51.65174069, 50.91517464, 55.8856348 ,\n",
       "       52.33806138, 46.51308367, 47.56435989, 47.27150289, 54.62772333,\n",
       "       50.5880609 , 52.5549234 , 54.35059541, 49.99861228, 47.12466972,\n",
       "       52.24787349, 50.52744207, 51.15890252, 44.897824  , 50.15228306,\n",
       "       52.40594065, 41.60574706, 49.80526421, 60.40275811, 53.52042341,\n",
       "       50.72018239, 56.57989323, 51.46701988, 45.92442263, 51.43068912,\n",
       "       49.28287373, 51.83616633, 48.56861588, 42.53763793, 50.72942687,\n",
       "       55.13884979, 52.40695586, 60.12841707, 47.70423631, 48.71997763,\n",
       "       44.15176022, 48.46506539, 45.87296478, 49.90739426, 51.53114674,\n",
       "       59.98771846, 50.91432957, 58.76374386, 46.83809465, 44.02434625,\n",
       "       47.21321252, 45.93083959, 48.72638426, 45.77229283, 47.45847731,\n",
       "       53.97872702, 48.75485532, 59.63536436, 57.4337133 , 56.50041501,\n",
       "       50.68102775, 54.79655314, 47.65117081, 56.14925438, 57.38645409,\n",
       "       56.43011725, 46.4668298 , 46.16213274, 53.78640727, 44.70812296,\n",
       "       48.2626373 , 45.13481168, 50.09239675, 51.31040934, 47.37242223,\n",
       "       52.29937503, 51.11980446, 47.94553081, 45.90496125, 49.70791374,\n",
       "       48.3289072 , 35.15866615, 46.61366694, 40.52418402, 50.01298701,\n",
       "       52.44673491, 41.45619051, 52.82194233, 55.68738407, 50.93426535,\n",
       "       45.32326076, 48.09538392, 48.06929262, 45.69767409, 53.81454935,\n",
       "       49.43759837, 46.71711878, 56.2824376 , 42.52452289, 55.06708068,\n",
       "       46.80009354, 48.47464679, 55.85920938, 56.45096071, 57.45070318,\n",
       "       49.21313376, 45.36613169, 57.80819696, 52.83815168, 51.16803443,\n",
       "       57.33104153, 54.78100159, 45.42872357, 45.90226211, 41.22402503,\n",
       "       51.73068326, 48.67159453, 47.92580939, 46.91307109, 53.69183983,\n",
       "       58.33130954, 57.48567799, 41.8567188 , 52.83102163, 57.94293475,\n",
       "       50.02140058, 48.81456504, 51.44247368, 47.49092701, 55.06370382,\n",
       "       51.96041734, 57.85902921, 60.26241752, 48.13429735, 56.62455268,\n",
       "       48.39704675, 55.03221385, 39.19526793, 59.11518547, 44.34991582,\n",
       "       50.52067799, 47.27478235, 52.00970266, 60.37623354, 46.09519399,\n",
       "       46.13596322, 51.9147218 , 47.84856825, 54.61765991, 57.6841039 ,\n",
       "       53.28817093, 51.04929532, 49.78085611, 48.56413272, 52.13998915,\n",
       "       46.55328894, 59.22569631, 46.83349951, 57.08162117, 59.77169496,\n",
       "       50.57198507, 49.11042474, 49.34959956, 47.05582986, 42.28694727,\n",
       "       45.0926506 , 46.492529  , 54.9917391 , 54.00200443, 48.49034056,\n",
       "       52.90387015, 48.01490313, 51.0572289 , 47.92401854, 48.32083337,\n",
       "       53.85237899, 44.99568341, 52.7782995 , 46.33272413, 58.71885037,\n",
       "       49.19570369, 37.34726774, 51.81877984, 49.97737071, 56.81485525,\n",
       "       50.48140991, 46.84535751, 55.27464326, 50.87953261, 54.46428451,\n",
       "       45.94846762, 59.30814975, 50.31163809, 38.60732594, 53.92499771,\n",
       "       47.94312624, 52.74122865, 50.65993294, 45.36813512, 41.88485308,\n",
       "       48.80892429, 50.86269772, 48.07396883, 53.13034154, 54.18852227,\n",
       "       55.57058892, 51.82862352, 44.8838266 , 47.58719019, 51.34853734,\n",
       "       56.52686017, 52.20711396, 48.78744055, 51.28236286, 49.58238885,\n",
       "       45.91609387, 55.71335576, 54.01062349, 47.88298798, 54.04711927,\n",
       "       44.91706405, 46.69928667, 56.77009337, 47.64581548, 43.37507971,\n",
       "       50.25136785, 44.71899511, 58.52358312, 55.78397962, 58.08819347,\n",
       "       53.18582007, 46.43085157, 45.35632935, 49.59441413, 44.7736704 ,\n",
       "       48.95180671, 44.43177674, 47.51852149, 60.12203954, 51.73631171,\n",
       "       49.63450786, 50.95412311, 44.5793337 , 54.02249329, 50.43630575,\n",
       "       51.53742906, 54.87907386, 55.26984293, 54.52104117, 54.37073817,\n",
       "       49.06945009, 52.63422335, 52.7816693 , 38.43765263, 53.06171332,\n",
       "       53.18624758, 50.93551395, 60.44023628, 45.65386188, 57.05682359,\n",
       "       44.01173513, 50.44939505, 54.63808861, 58.70985202, 47.9338248 ,\n",
       "       53.00973214, 41.78880547, 42.05412714, 52.29930102, 49.24186133,\n",
       "       48.76952432, 46.78379033, 50.76797373, 49.01101054, 50.85078983,\n",
       "       53.27207284, 41.26894203, 58.84123404, 48.4604836 , 51.04401213,\n",
       "       51.91981513, 47.29353651, 51.05650556, 39.06488209, 52.55419148,\n",
       "       55.6008526 , 52.19277539, 61.76096051, 53.19378856, 46.76108648,\n",
       "       55.40865344, 46.88452263, 50.96381004, 48.82067549, 40.1591115 ,\n",
       "       54.12406713, 53.76860512, 44.10007127, 49.55883238, 47.02173255,\n",
       "       45.30363464, 46.56907718, 53.74231738, 56.16785426, 53.25315225,\n",
       "       52.43812853, 50.27883561, 51.25793847, 61.49911238, 50.12777055,\n",
       "       50.24444324, 52.78863842, 43.82888711, 56.13187363, 51.65521367,\n",
       "       50.91937096, 49.13302669, 48.89896588, 45.19711641, 55.8177044 ,\n",
       "       46.05965856, 50.2960868 , 46.30134085, 53.35918292, 47.5367983 ,\n",
       "       62.82055797, 49.20578378, 57.94461695, 46.54701977, 50.0862816 ,\n",
       "       42.49507835, 46.9926666 , 55.28267399, 55.61279814, 43.40981304,\n",
       "       52.02859231, 43.61341399, 54.83139036, 50.77411922, 45.61642712,\n",
       "       47.26958941, 59.31483368, 40.94888449, 48.61678222, 45.06707875,\n",
       "       45.38392933, 42.98475672, 43.0424363 , 46.22881938, 55.288515  ,\n",
       "       47.60016797, 53.65804026, 59.33275229, 57.82933048, 61.45503467,\n",
       "       44.86519953, 60.27715276, 46.56578318, 42.28248927, 48.79866371,\n",
       "       53.75025979, 51.65123944, 46.99650704, 45.84556502, 50.88267157,\n",
       "       49.81836395, 43.95945572, 43.70180687, 44.39371167, 44.99018969,\n",
       "       47.43447488, 46.87105993, 47.59763563, 54.367229  , 51.1587653 ,\n",
       "       53.62428936, 57.19569816, 46.40848729, 55.16299073, 48.05962303,\n",
       "       39.71255134, 46.90264004, 49.94894303, 39.34956285, 49.96756484,\n",
       "       52.66346867, 45.52531059, 51.80289948, 48.42817254, 54.06682446,\n",
       "       43.81031356, 55.17368327, 46.88519094, 50.91122532, 50.76193354,\n",
       "       54.71247757, 53.31607604, 49.94614631, 54.07553602, 48.34022968,\n",
       "       58.33997921, 42.38744205, 58.69597084, 59.17284325, 51.23099534,\n",
       "       53.84171077, 55.40249311, 54.03145909, 52.21686929, 56.21619535,\n",
       "       45.74562798, 52.63821078, 50.65973639, 55.43665193, 49.66845847,\n",
       "       44.38147807, 56.10695917, 51.5484073 , 47.66991792, 54.36584479,\n",
       "       45.17797187, 53.27457941, 51.17849306, 50.01618948, 63.20593391,\n",
       "       54.25046069, 50.99075827, 51.57100125, 55.59851139, 48.68911873,\n",
       "       57.65301969, 50.27930179, 49.74094596, 54.23384802, 45.87063424,\n",
       "       55.01331057, 47.11509631, 53.44994138, 58.89305141, 47.5276997 ,\n",
       "       47.28116113, 54.03708994, 46.72639008, 50.62042225, 47.4161745 ,\n",
       "       61.55859899, 48.42858212, 51.33661099, 54.51615382, 66.51704795,\n",
       "       53.79436284, 44.73171789, 47.07056508, 61.86608663, 57.80520666,\n",
       "       49.96405265, 55.92014596, 37.91046042, 53.88134167, 54.71659076,\n",
       "       56.60392124, 43.53921723, 51.86165262, 52.24332648, 57.14651947,\n",
       "       50.89228385, 56.13019396, 48.07419066, 50.08406114, 54.1192454 ,\n",
       "       51.74863061, 54.96891879, 44.60871801, 47.91711582, 54.296405  ,\n",
       "       43.68226381, 61.52077134, 49.52851535, 45.62413965, 54.46133721,\n",
       "       52.47756007, 48.4649043 , 57.75315755, 47.56856522, 44.82848828,\n",
       "       47.45271112, 35.03525261, 46.66693159, 47.15563001, 51.90090381,\n",
       "       53.29888398, 50.10683189, 42.0807434 , 47.78429396, 48.53580999,\n",
       "       54.60678005, 43.84281147, 41.59631438, 52.74991043, 55.39426733,\n",
       "       46.54853094, 57.93416621, 49.32443788, 56.78380212, 48.46561972,\n",
       "       48.02090891, 46.63593141, 59.73904868, 49.71883908, 55.28875565,\n",
       "       47.14321757, 58.59751499, 49.48185861, 58.51298652, 47.24540852,\n",
       "       36.9410304 , 46.6126442 , 48.48106867, 44.97209256, 52.949753  ,\n",
       "       55.31963423, 52.86217426, 45.01089405, 44.56019167, 46.06282198,\n",
       "       50.56043493, 42.77059164, 41.48617842, 41.75066117, 49.33433554,\n",
       "       60.01213936, 45.69058684, 45.95434481, 49.81742374, 51.59244612,\n",
       "       48.70840744, 40.57607885, 56.6403339 , 50.48430081, 53.39920675,\n",
       "       41.08751612, 56.88380461, 48.09566693, 48.38812041, 48.24144205,\n",
       "       41.28641218, 44.876343  , 44.42695051, 42.88301645, 48.18783144,\n",
       "       55.1891408 , 58.01268081, 52.37028693, 56.02367802, 52.74211954,\n",
       "       48.5131224 , 42.21983005, 52.04023029, 52.06907296, 44.12773287,\n",
       "       41.89543979, 55.19248663, 39.03942987, 45.85146864, 49.12258653,\n",
       "       52.42268387, 55.02002182, 53.06610961, 46.9706485 , 44.52567657,\n",
       "       43.75712091, 43.42559844, 52.81935115, 48.29107841, 46.2210597 ,\n",
       "       46.08900818, 47.84062295, 45.77605436, 55.0321628 , 50.88916038,\n",
       "       53.15431214, 45.83933209, 45.465699  , 44.98204726, 42.07150648,\n",
       "       52.30986274, 46.29115514, 44.95497257, 48.50760394, 49.82522743,\n",
       "       52.20437695, 48.68898091, 45.06892416, 55.26230832, 49.20715688,\n",
       "       53.14446862, 52.2987554 , 53.78951235, 49.47715469, 56.28125494,\n",
       "       59.11329298, 51.75238523, 53.22921422, 44.28012434, 48.54923383,\n",
       "       49.70310412, 42.35419778, 56.89668728, 43.90620112, 49.5377849 ,\n",
       "       44.46197307, 49.46988577, 47.42209067, 46.33337962, 55.08355146,\n",
       "       48.42167402, 58.01718255, 44.9104981 , 48.1340006 , 54.70238986,\n",
       "       46.13366916, 55.91903776, 39.14769907, 45.9259929 , 45.69138823,\n",
       "       51.75543412, 53.65295546, 43.59567724, 59.36410924, 45.62324035,\n",
       "       45.59110764, 55.88251849, 46.15943788, 51.94806038, 55.7509536 ,\n",
       "       47.69313437, 54.45173174, 46.23022206, 50.93820466, 49.89452454,\n",
       "       57.50055453, 53.25756294, 46.67036264, 46.56356656, 53.6498969 ,\n",
       "       48.48819103, 55.789684  , 44.50847608, 41.87429615, 51.76161244,\n",
       "       38.88849826, 44.92104985, 53.67969084, 48.10988066, 45.72064138,\n",
       "       50.01334672, 45.54522108, 53.6810342 , 49.35133799, 46.90216751,\n",
       "       45.76709541, 50.5741482 , 53.13796821, 51.78159998, 46.63889473,\n",
       "       48.34312489, 54.38590662, 53.8731476 , 50.81623094, 58.27018158,\n",
       "       50.44611592, 55.54729861, 52.95619109, 46.06861047, 43.07900286])"
      ]
     },
     "execution_count": 105,
     "metadata": {},
     "output_type": "execute_result"
    }
   ],
   "source": [
    "data_low_var"
   ]
  },
  {
   "cell_type": "code",
   "execution_count": 106,
   "id": "7cb3e722-ea8d-442a-9ecc-ecfa83f0f8c5",
   "metadata": {},
   "outputs": [
    {
     "data": {
      "image/png": "[encoded data removed]",
      "text/plain": [
       "<Figure size 640x480 with 1 Axes>"
      ]
     },
     "metadata": {},
     "output_type": "display_data"
    }
   ],
   "source": [
    "plt.hist(data_low_var, bins=30, alpha=0.7, color='b', edgecolor='black')\n",
    "plt.xlabel(\"Value\")\n",
    "plt.ylabel(\"Frequency\")\n",
    "plt.title(\"Histogram of Normally Distributed Data\")\n",
    "plt.show()"
   ]
  },
  {
   "cell_type": "code",
   "execution_count": null,
   "id": "ed9a4532-d3b0-45c8-8656-d64e0ee20b35",
   "metadata": {},
   "outputs": [],
   "source": []
  }
 ],
 "metadata": {
  "kernelspec": {
   "display_name": "Python 3 (ipykernel)",
   "language": "python",
   "name": "python3"
  },
  "language_info": {
   "codemirror_mode": {
    "name": "ipython",
    "version": 3
   },
   "file_extension": ".py",
   "mimetype": "text/x-python",
   "name": "python",
   "nbconvert_exporter": "python",
   "pygments_lexer": "ipython3",
   "version": "3.12.9"
  }
 },
 "nbformat": 4,
 "nbformat_minor": 5
}
